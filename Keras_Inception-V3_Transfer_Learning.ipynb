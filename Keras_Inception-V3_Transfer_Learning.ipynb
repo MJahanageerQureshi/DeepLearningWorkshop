{
 "cells": [
  {
   "cell_type": "code",
   "execution_count": 3,
   "metadata": {
    "collapsed": false
   },
   "outputs": [],
   "source": [
    "# Load images keepin in mind that they are within 299*299 or change the input tensor dimension.\n",
    "import os,cv2\n",
    "from skimage.transform import resize\n",
    "import numpy as np\n",
    "from skimage.transform import resize\n",
    "\n",
    "def load_images_from_folder(folder):\n",
    "    images = []\n",
    "    for filename in os.listdir(folder):\n",
    "        img = cv2.imread(os.path.join(folder,filename))\n",
    "        #S = ([299,299,3])\n",
    "        #img = resize(img,S)\n",
    "        #img = img.reshape(1,299,299,3)\n",
    "        if img is not None:\n",
    "            images.append(img)\n",
    "    return images\n",
    "y0 = np.zeros([82,1])\n",
    "y1 = np.ones([64,1])\n",
    "\n",
    "x_1 = np.array(load_images_from_folder('C:/Users/Jahangeer/Downloads/New folder/darthmaul'))\n",
    "y_1 = np.concatenate([(y0)],axis = 1)\n",
    "\n",
    "x_2 = np.array(load_images_from_folder('C:/Users/Jahangeer/Downloads/New folder/darthvader'))\n",
    "y_2 = np.concatenate([(y1)],axis = 1)\n",
    "\n",
    "X = np.concatenate([(x_1),(x_2)], axis=0)\n",
    "Y = np.concatenate([(y_1),(y_2)], axis=0)"
   ]
  },
  {
   "cell_type": "code",
   "execution_count": null,
   "metadata": {
    "collapsed": false
   },
   "outputs": [],
   "source": [
    "import matplotlib.pyplot as plt\n",
    "print(np.shape(X))\n",
    "print(np.shape(Y))\n",
    "plt.imshow(X[14])\n",
    "plt.show()"
   ]
  },
  {
   "cell_type": "code",
   "execution_count": null,
   "metadata": {
    "collapsed": false
   },
   "outputs": [],
   "source": [
    "# Load CNN dependencies\n",
    "from keras.applications.inception_v3 import InceptionV3\n",
    "from keras.preprocessing import image\n",
    "from keras.models import Model\n",
    "from keras.layers import Dense, GlobalAveragePooling2D\n",
    "from keras import backend as K"
   ]
  },
  {
   "cell_type": "code",
   "execution_count": null,
   "metadata": {
    "collapsed": false
   },
   "outputs": [],
   "source": [
    "# create the base pre-trained model\n",
    "base_model = InceptionV3(weights='imagenet', include_top=False, )"
   ]
  },
  {
   "cell_type": "code",
   "execution_count": null,
   "metadata": {
    "collapsed": false
   },
   "outputs": [],
   "source": [
    "np.random.seed(2)\n",
    "# add a global spatial average pooling layer\n",
    "x = base_model.output\n",
    "x = GlobalAveragePooling2D()(x)\n",
    "# let's add a fully-connected layer\n",
    "x = Dense(1028, activation='relu')(x)\n",
    "x = Dense(100, activation='relu')(x)\n",
    "# and a logistic layer -- let's say we have 1 class\n",
    "predictions = Dense(1, activation='sigmoid')(x)\n",
    "\n",
    "# this is the model we will train\n",
    "model = Model(inputs=base_model.input, outputs=predictions)"
   ]
  },
  {
   "cell_type": "code",
   "execution_count": null,
   "metadata": {
    "collapsed": false
   },
   "outputs": [],
   "source": [
    "for layer in base_model.layers:\n",
    "    layer.trainable = False\n",
    "    \n",
    "model.compile(optimizer='adam', loss='binary_crossentropy', metrics = ['accuracy'])\n",
    "model.summary()"
   ]
  },
  {
   "cell_type": "code",
   "execution_count": null,
   "metadata": {
    "collapsed": true
   },
   "outputs": [],
   "source": [
    "model.fit(X, Y, batch_size=10, epochs=20, verbose=1)\n",
    "score = model.evaluate(X, Y, verbose=0)"
   ]
  },
  {
   "cell_type": "code",
   "execution_count": 6,
   "metadata": {
    "collapsed": false
   },
   "outputs": [
    {
     "name": "stdout",
     "output_type": "stream",
     "text": [
      "[[ 0.66135883]]\n",
      "done\n"
     ]
    }
   ],
   "source": [
    "from easygui import *\n",
    "msgbox('please select an image when this window closes')\n",
    "path = fileopenbox()\n",
    "\n",
    "def predict_image_index(path):\n",
    "    import cv2\n",
    "    from skimage.transform import resize\n",
    "    img = cv2.imread(path)\n",
    "    S = ([299,299,3])\n",
    "    img = resize(img,S)\n",
    "    img = img.reshape(1,299,299,3)\n",
    "    answer = model.predict(img)\n",
    "    import numpy as np\n",
    "    i = np.argmax(answer)\n",
    "    return answer\n",
    "\n",
    "index = predict_image_index(path)\n",
    "\n",
    "print(index)\n",
    "print('done')"
   ]
  },
  {
   "cell_type": "code",
   "execution_count": null,
   "metadata": {
    "collapsed": true
   },
   "outputs": [],
   "source": []
  }
 ],
 "metadata": {
  "anaconda-cloud": {},
  "kernelspec": {
   "display_name": "Python [Root]",
   "language": "python",
   "name": "Python [Root]"
  },
  "language_info": {
   "codemirror_mode": {
    "name": "ipython",
    "version": 2
   },
   "file_extension": ".py",
   "mimetype": "text/x-python",
   "name": "python",
   "nbconvert_exporter": "python",
   "pygments_lexer": "ipython2",
   "version": "2.7.12"
  }
 },
 "nbformat": 4,
 "nbformat_minor": 0
}
